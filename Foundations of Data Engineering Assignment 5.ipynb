{
 "cells": [
  {
   "cell_type": "code",
   "execution_count": 2,
   "id": "da852dde",
   "metadata": {},
   "outputs": [],
   "source": [
    "from random import choice\n",
    "from string import ascii_lowercase\n",
    "import time\n",
    "import pandas as pd\n",
    "import matplotlib.pyplot as plt"
   ]
  },
  {
   "cell_type": "code",
   "execution_count": 3,
   "id": "65e2b168",
   "metadata": {},
   "outputs": [],
   "source": [
    "chars = ascii_lowercase\n",
    "name_list = [''.join(choice(chars) for _ in range(10)) for _ in range(100000)]"
   ]
  },
  {
   "cell_type": "code",
   "execution_count": 8,
   "id": "3f09baf7",
   "metadata": {},
   "outputs": [],
   "source": [
    "def convert(lst):\n",
    "    dic = {lst[i] for i in range(0,len(lst))}\n",
    "    return dic\n",
    "                                 "
   ]
  },
  {
   "cell_type": "code",
   "execution_count": 13,
   "id": "da4ffc22",
   "metadata": {},
   "outputs": [],
   "source": [
    "name_set = convert(name_list)"
   ]
  },
  {
   "cell_type": "code",
   "execution_count": 17,
   "id": "57c3bdc4",
   "metadata": {},
   "outputs": [],
   "source": [
    "def quicksort(array):\n",
    "  if len(array) < 2:\n",
    "    return array\n",
    "  else:\n",
    "    pivot = array[0]\n",
    "    less = [i for i in array[1:] if i <= pivot]\n",
    "    greater = [i for i in array[1:] if i > pivot]\n",
    "    return quicksort(less) + [pivot] + quicksort(greater)"
   ]
  },
  {
   "cell_type": "code",
   "execution_count": 18,
   "id": "512ee920",
   "metadata": {},
   "outputs": [],
   "source": [
    "name_list_copy = name_list\n",
    "start_time = time.time()\n",
    "sort_list = quicksort(name_list_copy)\n",
    "end_time = time.time()\n",
    "sort_runtime = end_time - start_time\n"
   ]
  },
  {
   "cell_type": "code",
   "execution_count": 21,
   "id": "0dd5b32c",
   "metadata": {},
   "outputs": [
    {
     "name": "stdout",
     "output_type": "stream",
     "text": [
      "536.6747379302979\n"
     ]
    }
   ],
   "source": [
    "print(sort_runtime*1000)"
   ]
  },
  {
   "cell_type": "markdown",
   "id": "483efa60",
   "metadata": {},
   "source": [
    "### For this assignment I decided to sort this list using quicksort. I chose this based on last week's assignment showing that it is a fast performing algorithm and it did not disappoint by organizing this 100,000 item list in less than a second."
   ]
  },
  {
   "cell_type": "code",
   "execution_count": 24,
   "id": "b4115cf6",
   "metadata": {},
   "outputs": [],
   "source": [
    "selections = [name_list[9999], name_list[29999], name_list[49999], name_list[69999], name_list[89999], name_list[99999]]"
   ]
  },
  {
   "cell_type": "code",
   "execution_count": 25,
   "id": "d3ed12fd",
   "metadata": {},
   "outputs": [],
   "source": [
    "def Linear(list, item):\n",
    "    position = 0\n",
    "    while True:\n",
    "        guess = list[position]\n",
    "        if guess == item:\n",
    "            return position\n",
    "        else:\n",
    "            position = position + 1\n",
    "    return None"
   ]
  },
  {
   "cell_type": "code",
   "execution_count": 26,
   "id": "a2db1b00",
   "metadata": {},
   "outputs": [],
   "source": [
    "def Binary(list, item):\n",
    "    high = len(list)-1\n",
    "    low = 0\n",
    "    while low <= high:\n",
    "        mid = (low + high) // 2\n",
    "        guess = list[mid]\n",
    "        if guess == item:\n",
    "            return mid\n",
    "        if guess > item:\n",
    "            high = mid - 1\n",
    "        else:\n",
    "            low = mid + 1\n",
    "    return None"
   ]
  },
  {
   "cell_type": "code",
   "execution_count": 27,
   "id": "a37f99cc",
   "metadata": {},
   "outputs": [],
   "source": [
    "linear_runtimes = []\n",
    "\n",
    "for x in selections:\n",
    "    start_time = time.time()\n",
    "    Linear(name_list, x)\n",
    "    runtime = time.time()- start_time\n",
    "    linear_runtimes.append(runtime*1000)"
   ]
  },
  {
   "cell_type": "code",
   "execution_count": 29,
   "id": "cce2c8c8",
   "metadata": {},
   "outputs": [],
   "source": [
    "binary_runtimes = []\n",
    "\n",
    "for x in selections:\n",
    "    start_time = time.time()\n",
    "    Binary(sort_list, x)\n",
    "    runtime = time.time()- start_time\n",
    "    binary_runtimes.append(runtime*1000)"
   ]
  },
  {
   "cell_type": "code",
   "execution_count": 31,
   "id": "033785db",
   "metadata": {},
   "outputs": [],
   "source": [
    "hash_runtimes = []\n",
    "\n",
    "for x in selections:\n",
    "    start_time = time.time()\n",
    "    name_set.remove(x)\n",
    "    runtime= time.time() - start_time\n",
    "    hash_runtimes.append(runtime*1000)"
   ]
  },
  {
   "cell_type": "code",
   "execution_count": 33,
   "id": "79b51e13",
   "metadata": {},
   "outputs": [
    {
     "data": {
      "text/html": [
       "<div>\n",
       "<style scoped>\n",
       "    .dataframe tbody tr th:only-of-type {\n",
       "        vertical-align: middle;\n",
       "    }\n",
       "\n",
       "    .dataframe tbody tr th {\n",
       "        vertical-align: top;\n",
       "    }\n",
       "\n",
       "    .dataframe thead th {\n",
       "        text-align: right;\n",
       "    }\n",
       "</style>\n",
       "<table border=\"1\" class=\"dataframe\">\n",
       "  <thead>\n",
       "    <tr style=\"text-align: right;\">\n",
       "      <th></th>\n",
       "      <th>Name</th>\n",
       "      <th>Linear Runtime</th>\n",
       "      <th>Binary Runtime</th>\n",
       "      <th>Hash Runtime</th>\n",
       "    </tr>\n",
       "  </thead>\n",
       "  <tbody>\n",
       "    <tr>\n",
       "      <th>0</th>\n",
       "      <td>atbprmjbbm</td>\n",
       "      <td>3.057957</td>\n",
       "      <td>0.082016</td>\n",
       "      <td>0.033855</td>\n",
       "    </tr>\n",
       "    <tr>\n",
       "      <th>1</th>\n",
       "      <td>nbowvbpvba</td>\n",
       "      <td>5.855083</td>\n",
       "      <td>0.062943</td>\n",
       "      <td>0.015259</td>\n",
       "    </tr>\n",
       "    <tr>\n",
       "      <th>2</th>\n",
       "      <td>xbnpworxvu</td>\n",
       "      <td>8.908987</td>\n",
       "      <td>0.046968</td>\n",
       "      <td>0.015020</td>\n",
       "    </tr>\n",
       "    <tr>\n",
       "      <th>3</th>\n",
       "      <td>etthqskptp</td>\n",
       "      <td>14.302015</td>\n",
       "      <td>0.041962</td>\n",
       "      <td>0.015974</td>\n",
       "    </tr>\n",
       "    <tr>\n",
       "      <th>4</th>\n",
       "      <td>peundgdepq</td>\n",
       "      <td>17.103910</td>\n",
       "      <td>0.037670</td>\n",
       "      <td>0.014782</td>\n",
       "    </tr>\n",
       "    <tr>\n",
       "      <th>5</th>\n",
       "      <td>ktqiyqwvrw</td>\n",
       "      <td>13.973951</td>\n",
       "      <td>0.053883</td>\n",
       "      <td>0.014067</td>\n",
       "    </tr>\n",
       "  </tbody>\n",
       "</table>\n",
       "</div>"
      ],
      "text/plain": [
       "         Name  Linear Runtime  Binary Runtime  Hash Runtime\n",
       "0  atbprmjbbm        3.057957        0.082016      0.033855\n",
       "1  nbowvbpvba        5.855083        0.062943      0.015259\n",
       "2  xbnpworxvu        8.908987        0.046968      0.015020\n",
       "3  etthqskptp       14.302015        0.041962      0.015974\n",
       "4  peundgdepq       17.103910        0.037670      0.014782\n",
       "5  ktqiyqwvrw       13.973951        0.053883      0.014067"
      ]
     },
     "execution_count": 33,
     "metadata": {},
     "output_type": "execute_result"
    }
   ],
   "source": [
    "data = {\"Name\": selections, 'Linear Runtime': linear_runtimes, 'Binary Runtime': binary_runtimes, \"Hash Runtime\": hash_runtimes}\n",
    "df = pd.DataFrame(data)\n",
    "df"
   ]
  },
  {
   "cell_type": "code",
   "execution_count": 41,
   "id": "7e3f85af",
   "metadata": {},
   "outputs": [
    {
     "data": {
      "image/png": "[encoded data removed]",
      "text/plain": [
       "<Figure size 1000x1000 with 1 Axes>"
      ]
     },
     "metadata": {
      "needs_background": "light"
     },
     "output_type": "display_data"
    }
   ],
   "source": [
    "plt.figure(figsize=(10, 10), dpi=100)\n",
    "plt.plot(range(6), df['Linear Runtime'], label = 'Linear');\n",
    "plt.plot(range(6), df['Binary Runtime'], label = 'Binary');\n",
    "plt.plot(range(6), df['Hash Runtime'], label = 'Hash');\n",
    "plt.legend();\n"
   ]
  },
  {
   "cell_type": "markdown",
   "id": "4427b132",
   "metadata": {},
   "source": [
    "# Executive Summary\n",
    "\n",
    "## For this experiment, I put together a 100,000 item list of names. I then created a sorted version of these names and then I created a dictionary out of these names. Afterward, I took out 6 selections from the unsorted list and utilized the linear search algorithm to find them in the unsorted list, the binary search algorithm for the sorted list, and the built-in set lookup for the dictionary. Out of all of these the one that performed the best out of the three of them was the set lookup method, however it is worth noting that the binary search algorithm did perform at a close second.\n",
    "\n",
    "## The linear search algorithm performed awfully. In comparison to the other two algorithms, it performed more than 10 times as slow when looking at peak positions. Meanwhile, for the other two, it is hard to tell the difference via plot. However, if you look at the table you'll see that they do perform quite differently. While the runtimes to the binary algorithm are varied, the runtimes to the set lookup were consistently at .015ish milliseconds after its initial round. Furthermore, while the binary algorithm was quite fast, its minimum runtime was .0367 milliseconds. This is an incredible speed but it is almost 2.5 times slower than the set lookup.\n",
    "\n",
    "## All of this has proven to be consistent with Big O notation. Linear selection is at O(n^2), binary selection is at O(log n) while the set lookup, which is based on hash tables, is at O(1) indicating a constant. This is incredibly useful for data engineers when understanding when it comes to search algorithms it is often best to use the high programming built in functioning for hash tables. This is due to the incredible speed in which it can search up values at not only a fast speed but also a consistent one."
   ]
  },
  {
   "cell_type": "code",
   "execution_count": null,
   "id": "4882ef5f",
   "metadata": {},
   "outputs": [],
   "source": []
  }
 ],
 "metadata": {
  "kernelspec": {
   "display_name": "Python 3 (ipykernel)",
   "language": "python",
   "name": "python3"
  },
  "language_info": {
   "codemirror_mode": {
    "name": "ipython",
    "version": 3
   },
   "file_extension": ".py",
   "mimetype": "text/x-python",
   "name": "python",
   "nbconvert_exporter": "python",
   "pygments_lexer": "ipython3",
   "version": "3.9.7"
  }
 },
 "nbformat": 4,
 "nbformat_minor": 5
}
